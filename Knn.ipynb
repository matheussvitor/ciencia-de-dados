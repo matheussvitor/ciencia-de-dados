{
  "nbformat": 4,
  "nbformat_minor": 0,
  "metadata": {
    "colab": {
      "name": "Knn.ipynb",
      "provenance": [],
      "collapsed_sections": [],
      "authorship_tag": "ABX9TyPyfFCCjTmZWtjWohkEJ8rM"
    },
    "kernelspec": {
      "name": "python3",
      "display_name": "Python 3"
    },
    "language_info": {
      "name": "python"
    }
  },
  "cells": [
    {
      "cell_type": "markdown",
      "metadata": {
        "id": "Ce2_9Z8b72bS"
      },
      "source": [
        "# Aplicando o método de vizinhos mais próximos (knn)."
      ]
    },
    {
      "cell_type": "markdown",
      "metadata": {
        "id": "6RSDHcHGEMgU"
      },
      "source": [
        "Para esse exemplo, será utilizada uma base de dados onde cada observação corresponde a idade de determinado bebê (em semanas) e seu comprimento (em centímetros).\n",
        "Antes de começar a análise, serão importadas as bibliotecas utilizadas nesse exemplo."
      ]
    },
    {
      "cell_type": "code",
      "metadata": {
        "id": "lKylkJbm87ad"
      },
      "source": [
        "import matplotlib.pyplot as plt\n",
        "import numpy as np\n",
        "import pandas as pd\n",
        "import sklearn.linear_model"
      ],
      "execution_count": null,
      "outputs": []
    },
    {
      "cell_type": "code",
      "metadata": {
        "id": "f7b0wsKuANOu"
      },
      "source": [
        "np.random.seed(42)"
      ],
      "execution_count": 23,
      "outputs": []
    },
    {
      "cell_type": "code",
      "metadata": {
        "id": "13VZf2yRhvwP"
      },
      "source": [
        "# To plot pretty figures directly within Jupyter\n",
        "%matplotlib inline\n",
        "import matplotlib as mpl\n",
        "mpl.rc('axes', labelsize=14)\n",
        "mpl.rc('xtick', labelsize=12)\n",
        "mpl.rc('ytick', labelsize=12)"
      ],
      "execution_count": 57,
      "outputs": []
    },
    {
      "cell_type": "markdown",
      "metadata": {
        "id": "JkhIiX0wE397"
      },
      "source": [
        "A base utilizada aqui está no formato '.RData', que é mais utilizado no R. Para trabalhar com essa base em Python, será utilizada a biblioteca 'pyreadr'."
      ]
    },
    {
      "cell_type": "code",
      "metadata": {
        "colab": {
          "base_uri": "https://localhost:8080/"
        },
        "id": "PMv1LG8fhsV1",
        "outputId": "6c189042-9dad-4385-9d1a-807316fbdeb8"
      },
      "source": [
        "!pip install pyreadr"
      ],
      "execution_count": 2,
      "outputs": [
        {
          "output_type": "stream",
          "text": [
            "Collecting pyreadr\n",
            "  Downloading pyreadr-0.4.2-cp37-cp37m-manylinux_2_17_x86_64.manylinux2014_x86_64.whl (409 kB)\n",
            "\u001b[?25l\r\u001b[K     |▉                               | 10 kB 27.1 MB/s eta 0:00:01\r\u001b[K     |█▋                              | 20 kB 29.4 MB/s eta 0:00:01\r\u001b[K     |██▍                             | 30 kB 19.1 MB/s eta 0:00:01\r\u001b[K     |███▏                            | 40 kB 15.9 MB/s eta 0:00:01\r\u001b[K     |████                            | 51 kB 8.2 MB/s eta 0:00:01\r\u001b[K     |████▉                           | 61 kB 7.8 MB/s eta 0:00:01\r\u001b[K     |█████▋                          | 71 kB 8.0 MB/s eta 0:00:01\r\u001b[K     |██████▍                         | 81 kB 8.9 MB/s eta 0:00:01\r\u001b[K     |███████▏                        | 92 kB 9.2 MB/s eta 0:00:01\r\u001b[K     |████████                        | 102 kB 7.6 MB/s eta 0:00:01\r\u001b[K     |████████▉                       | 112 kB 7.6 MB/s eta 0:00:01\r\u001b[K     |█████████▋                      | 122 kB 7.6 MB/s eta 0:00:01\r\u001b[K     |██████████▍                     | 133 kB 7.6 MB/s eta 0:00:01\r\u001b[K     |███████████▏                    | 143 kB 7.6 MB/s eta 0:00:01\r\u001b[K     |████████████                    | 153 kB 7.6 MB/s eta 0:00:01\r\u001b[K     |████████████▉                   | 163 kB 7.6 MB/s eta 0:00:01\r\u001b[K     |█████████████▋                  | 174 kB 7.6 MB/s eta 0:00:01\r\u001b[K     |██████████████▍                 | 184 kB 7.6 MB/s eta 0:00:01\r\u001b[K     |███████████████▏                | 194 kB 7.6 MB/s eta 0:00:01\r\u001b[K     |████████████████                | 204 kB 7.6 MB/s eta 0:00:01\r\u001b[K     |████████████████▉               | 215 kB 7.6 MB/s eta 0:00:01\r\u001b[K     |█████████████████▋              | 225 kB 7.6 MB/s eta 0:00:01\r\u001b[K     |██████████████████▍             | 235 kB 7.6 MB/s eta 0:00:01\r\u001b[K     |███████████████████▏            | 245 kB 7.6 MB/s eta 0:00:01\r\u001b[K     |████████████████████            | 256 kB 7.6 MB/s eta 0:00:01\r\u001b[K     |████████████████████▉           | 266 kB 7.6 MB/s eta 0:00:01\r\u001b[K     |█████████████████████▋          | 276 kB 7.6 MB/s eta 0:00:01\r\u001b[K     |██████████████████████▍         | 286 kB 7.6 MB/s eta 0:00:01\r\u001b[K     |███████████████████████▏        | 296 kB 7.6 MB/s eta 0:00:01\r\u001b[K     |████████████████████████        | 307 kB 7.6 MB/s eta 0:00:01\r\u001b[K     |████████████████████████▉       | 317 kB 7.6 MB/s eta 0:00:01\r\u001b[K     |█████████████████████████▋      | 327 kB 7.6 MB/s eta 0:00:01\r\u001b[K     |██████████████████████████▍     | 337 kB 7.6 MB/s eta 0:00:01\r\u001b[K     |███████████████████████████▏    | 348 kB 7.6 MB/s eta 0:00:01\r\u001b[K     |████████████████████████████    | 358 kB 7.6 MB/s eta 0:00:01\r\u001b[K     |████████████████████████████▉   | 368 kB 7.6 MB/s eta 0:00:01\r\u001b[K     |█████████████████████████████▋  | 378 kB 7.6 MB/s eta 0:00:01\r\u001b[K     |██████████████████████████████▍ | 389 kB 7.6 MB/s eta 0:00:01\r\u001b[K     |███████████████████████████████▏| 399 kB 7.6 MB/s eta 0:00:01\r\u001b[K     |████████████████████████████████| 409 kB 7.6 MB/s eta 0:00:01\r\u001b[K     |████████████████████████████████| 409 kB 7.6 MB/s \n",
            "\u001b[?25hRequirement already satisfied: pandas>0.24.0 in /usr/local/lib/python3.7/dist-packages (from pyreadr) (1.1.5)\n",
            "Requirement already satisfied: numpy>=1.15.4 in /usr/local/lib/python3.7/dist-packages (from pandas>0.24.0->pyreadr) (1.19.5)\n",
            "Requirement already satisfied: pytz>=2017.2 in /usr/local/lib/python3.7/dist-packages (from pandas>0.24.0->pyreadr) (2018.9)\n",
            "Requirement already satisfied: python-dateutil>=2.7.3 in /usr/local/lib/python3.7/dist-packages (from pandas>0.24.0->pyreadr) (2.8.2)\n",
            "Requirement already satisfied: six>=1.5 in /usr/local/lib/python3.7/dist-packages (from python-dateutil>=2.7.3->pandas>0.24.0->pyreadr) (1.15.0)\n",
            "Installing collected packages: pyreadr\n",
            "Successfully installed pyreadr-0.4.2\n"
          ],
          "name": "stdout"
        }
      ]
    },
    {
      "cell_type": "code",
      "metadata": {
        "id": "QW45oMyujwsM"
      },
      "source": [
        "import pyreadr"
      ],
      "execution_count": 3,
      "outputs": []
    },
    {
      "cell_type": "code",
      "metadata": {
        "id": "8T10RokdkHyf"
      },
      "source": [
        "dataR = pyreadr.read_r('bebes.RData')"
      ],
      "execution_count": 4,
      "outputs": []
    },
    {
      "cell_type": "code",
      "metadata": {
        "colab": {
          "base_uri": "https://localhost:8080/"
        },
        "id": "nHpqtbRQlcPm",
        "outputId": "008ed6f2-3a4a-403b-c301-eda3c1ff75a2"
      },
      "source": [
        "print(dataR.keys())"
      ],
      "execution_count": 42,
      "outputs": [
        {
          "output_type": "stream",
          "text": [
            "odict_keys(['bebes'])\n"
          ],
          "name": "stdout"
        }
      ]
    },
    {
      "cell_type": "code",
      "metadata": {
        "id": "Wn_Dg_Wlnkb5"
      },
      "source": [
        "data = dataR['bebes']"
      ],
      "execution_count": 5,
      "outputs": []
    },
    {
      "cell_type": "markdown",
      "metadata": {
        "id": "8N5j3hrpFROB"
      },
      "source": [
        "Abaixo, vamos verificar a base que temos em mãos."
      ]
    },
    {
      "cell_type": "code",
      "metadata": {
        "colab": {
          "base_uri": "https://localhost:8080/",
          "height": 204
        },
        "id": "HGn-5U3Gno3C",
        "outputId": "6e70b68d-32eb-4a28-d7f0-ccc649215726"
      },
      "source": [
        "data.head()"
      ],
      "execution_count": 140,
      "outputs": [
        {
          "output_type": "execute_result",
          "data": {
            "text/html": [
              "<div>\n",
              "<style scoped>\n",
              "    .dataframe tbody tr th:only-of-type {\n",
              "        vertical-align: middle;\n",
              "    }\n",
              "\n",
              "    .dataframe tbody tr th {\n",
              "        vertical-align: top;\n",
              "    }\n",
              "\n",
              "    .dataframe thead th {\n",
              "        text-align: right;\n",
              "    }\n",
              "</style>\n",
              "<table border=\"1\" class=\"dataframe\">\n",
              "  <thead>\n",
              "    <tr style=\"text-align: right;\">\n",
              "      <th></th>\n",
              "      <th>comprimento</th>\n",
              "      <th>idade</th>\n",
              "    </tr>\n",
              "  </thead>\n",
              "  <tbody>\n",
              "    <tr>\n",
              "      <th>0</th>\n",
              "      <td>63.07</td>\n",
              "      <td>19.00</td>\n",
              "    </tr>\n",
              "    <tr>\n",
              "      <th>1</th>\n",
              "      <td>65.63</td>\n",
              "      <td>21.00</td>\n",
              "    </tr>\n",
              "    <tr>\n",
              "      <th>2</th>\n",
              "      <td>65.63</td>\n",
              "      <td>22.50</td>\n",
              "    </tr>\n",
              "    <tr>\n",
              "      <th>3</th>\n",
              "      <td>66.73</td>\n",
              "      <td>22.50</td>\n",
              "    </tr>\n",
              "    <tr>\n",
              "      <th>4</th>\n",
              "      <td>66.37</td>\n",
              "      <td>23.25</td>\n",
              "    </tr>\n",
              "  </tbody>\n",
              "</table>\n",
              "</div>"
            ],
            "text/plain": [
              "   comprimento  idade\n",
              "0        63.07  19.00\n",
              "1        65.63  21.00\n",
              "2        65.63  22.50\n",
              "3        66.73  22.50\n",
              "4        66.37  23.25"
            ]
          },
          "metadata": {
            "tags": []
          },
          "execution_count": 140
        }
      ]
    },
    {
      "cell_type": "code",
      "metadata": {
        "colab": {
          "base_uri": "https://localhost:8080/",
          "height": 297
        },
        "id": "1srx1W8mr1jo",
        "outputId": "ba3553b8-5ddc-4617-d626-122800fddb46"
      },
      "source": [
        "data.describe()"
      ],
      "execution_count": 139,
      "outputs": [
        {
          "output_type": "execute_result",
          "data": {
            "text/html": [
              "<div>\n",
              "<style scoped>\n",
              "    .dataframe tbody tr th:only-of-type {\n",
              "        vertical-align: middle;\n",
              "    }\n",
              "\n",
              "    .dataframe tbody tr th {\n",
              "        vertical-align: top;\n",
              "    }\n",
              "\n",
              "    .dataframe thead th {\n",
              "        text-align: right;\n",
              "    }\n",
              "</style>\n",
              "<table border=\"1\" class=\"dataframe\">\n",
              "  <thead>\n",
              "    <tr style=\"text-align: right;\">\n",
              "      <th></th>\n",
              "      <th>comprimento</th>\n",
              "      <th>idade</th>\n",
              "    </tr>\n",
              "  </thead>\n",
              "  <tbody>\n",
              "    <tr>\n",
              "      <th>count</th>\n",
              "      <td>74.000000</td>\n",
              "      <td>74.000000</td>\n",
              "    </tr>\n",
              "    <tr>\n",
              "      <th>mean</th>\n",
              "      <td>66.921622</td>\n",
              "      <td>25.312162</td>\n",
              "    </tr>\n",
              "    <tr>\n",
              "      <th>std</th>\n",
              "      <td>12.852386</td>\n",
              "      <td>12.975168</td>\n",
              "    </tr>\n",
              "    <tr>\n",
              "      <th>min</th>\n",
              "      <td>31.900000</td>\n",
              "      <td>2.150000</td>\n",
              "    </tr>\n",
              "    <tr>\n",
              "      <th>25%</th>\n",
              "      <td>56.470000</td>\n",
              "      <td>12.500000</td>\n",
              "    </tr>\n",
              "    <tr>\n",
              "      <th>50%</th>\n",
              "      <td>70.400000</td>\n",
              "      <td>26.000000</td>\n",
              "    </tr>\n",
              "    <tr>\n",
              "      <th>75%</th>\n",
              "      <td>75.807500</td>\n",
              "      <td>33.000000</td>\n",
              "    </tr>\n",
              "    <tr>\n",
              "      <th>max</th>\n",
              "      <td>87.630000</td>\n",
              "      <td>60.000000</td>\n",
              "    </tr>\n",
              "  </tbody>\n",
              "</table>\n",
              "</div>"
            ],
            "text/plain": [
              "       comprimento      idade\n",
              "count    74.000000  74.000000\n",
              "mean     66.921622  25.312162\n",
              "std      12.852386  12.975168\n",
              "min      31.900000   2.150000\n",
              "25%      56.470000  12.500000\n",
              "50%      70.400000  26.000000\n",
              "75%      75.807500  33.000000\n",
              "max      87.630000  60.000000"
            ]
          },
          "metadata": {
            "tags": []
          },
          "execution_count": 139
        }
      ]
    },
    {
      "cell_type": "code",
      "metadata": {
        "colab": {
          "base_uri": "https://localhost:8080/",
          "height": 290
        },
        "id": "_pcYAjsBntEQ",
        "outputId": "96ea7aee-8e91-42a4-cc2a-a957e8a76465"
      },
      "source": [
        "data.plot(kind='scatter', x=\"idade\", y='comprimento')\n",
        "plt.show()"
      ],
      "execution_count": 58,
      "outputs": [
        {
          "output_type": "display_data",
          "data": {
            "image/png": "[encoded data removed]",
            "text/plain": [
              "<Figure size 432x288 with 1 Axes>"
            ]
          },
          "metadata": {
            "tags": [],
            "needs_background": "light"
          }
        }
      ]
    },
    {
      "cell_type": "markdown",
      "metadata": {
        "id": "Ht4IMtfoF2VK"
      },
      "source": [
        "Pelo gráfico acima, podemos perceber que os dados tem um formato que lembra uma função logarítmica.\n",
        "Apesar desse formato específico deixar claro que os dados não se comportam de forma linear, iremos estimar um modelo de regressão linear nesse primeiro passo. Essa estimação servirá apenas para demonstrar a diferença de desempenho entre a regressão linear e um método não linear (nesse caso, o knn) quando os dados não são lineares."
      ]
    },
    {
      "cell_type": "code",
      "metadata": {
        "id": "wao8tH5KoxC3"
      },
      "source": [
        "X = np.c_[data['idade']]\n",
        "y = np.c_[data['comprimento']]"
      ],
      "execution_count": 60,
      "outputs": []
    },
    {
      "cell_type": "markdown",
      "metadata": {
        "id": "uy7I5yFQHEVk"
      },
      "source": [
        "Aqui estamos estimando uma regressão linear, utilizando a variável 'comprimento' como dependente e a variável 'idade' como explicativa."
      ]
    },
    {
      "cell_type": "code",
      "metadata": {
        "colab": {
          "base_uri": "https://localhost:8080/"
        },
        "id": "J6sw_ZkCoD78",
        "outputId": "736334b3-1a42-457b-e11d-99eddadea875"
      },
      "source": [
        "# Select a linear model\n",
        "model = sklearn.linear_model.LinearRegression()\n",
        "\n",
        "# Train the model\n",
        "model.fit(X, y)"
      ],
      "execution_count": 148,
      "outputs": [
        {
          "output_type": "execute_result",
          "data": {
            "text/plain": [
              "LinearRegression(copy_X=True, fit_intercept=True, n_jobs=None, normalize=False)"
            ]
          },
          "metadata": {
            "tags": []
          },
          "execution_count": 148
        }
      ]
    },
    {
      "cell_type": "code",
      "metadata": {
        "colab": {
          "base_uri": "https://localhost:8080/",
          "height": 286
        },
        "id": "IImaxi0_o_iB",
        "outputId": "8de28254-deb2-488a-eeb9-e58cb6714c19"
      },
      "source": [
        "data.plot(kind = 'scatter',x=\"idade\", y='comprimento')\n",
        "plt.plot(np.sort(X),model.predict(X=np.sort(np.c_[data['idade']])), color = 'red')\n",
        "plt.show()"
      ],
      "execution_count": 64,
      "outputs": [
        {
          "output_type": "display_data",
          "data": {
            "image/png": "[encoded data removed]",
            "text/plain": [
              "<Figure size 432x288 with 1 Axes>"
            ]
          },
          "metadata": {
            "tags": [],
            "needs_background": "light"
          }
        }
      ]
    },
    {
      "cell_type": "markdown",
      "metadata": {
        "id": "y6hXx9DNHQyZ"
      },
      "source": [
        "O gráfico acima mostra a distribuição dos dados e o modelo estimado no passo anterior, representado pela reta vermelha.\n",
        "É possível perceber que o modelo não está bem ajustado aos dados. Isso acontece, claro, porque os dados não se comportam de forma linear."
      ]
    },
    {
      "cell_type": "markdown",
      "metadata": {
        "id": "lU_kvfngPxYt"
      },
      "source": [
        "Portanto, vamos estimar um modelo utilizando o método knn. Como o knn utiliza noções de distância entre observações para atribuir valores em suas predições, primeiro transformaremos nossos dados.\n",
        "\n",
        "Isso acontece porque a variável 'idade' tem uma escala diferente da variável 'comprimento', a idade dos bebês varia de 2,15 a 60 semanas, enquanto que o comprimento varia de 31,9cm a 87,63cm.\n",
        "\n",
        "Então, vamos padronizar nossos dados para que eles fiquem no mesmo intervalo, nesse caso, entre 0 e 1."
      ]
    },
    {
      "cell_type": "code",
      "metadata": {
        "id": "zSZGISmt5Hm6"
      },
      "source": [
        "dataS = (data - np.min(data))/(np.max(data)-np.min(data))"
      ],
      "execution_count": 38,
      "outputs": []
    },
    {
      "cell_type": "code",
      "metadata": {
        "colab": {
          "base_uri": "https://localhost:8080/"
        },
        "id": "ZCt_uRnO5ODG",
        "outputId": "4bbd63ac-0a97-430c-a282-43ea1b07fa77"
      },
      "source": [
        "np.min(dataS)"
      ],
      "execution_count": 67,
      "outputs": [
        {
          "output_type": "execute_result",
          "data": {
            "text/plain": [
              "comprimento    0.0\n",
              "idade          0.0\n",
              "dtype: float64"
            ]
          },
          "metadata": {
            "tags": []
          },
          "execution_count": 67
        }
      ]
    },
    {
      "cell_type": "code",
      "metadata": {
        "colab": {
          "base_uri": "https://localhost:8080/"
        },
        "id": "3X9xt2a18_iY",
        "outputId": "60ff3f28-6dee-4afa-fd1d-c407c0d57539"
      },
      "source": [
        "np.max(dataS)"
      ],
      "execution_count": 66,
      "outputs": [
        {
          "output_type": "execute_result",
          "data": {
            "text/plain": [
              "comprimento    1.0\n",
              "idade          1.0\n",
              "dtype: float64"
            ]
          },
          "metadata": {
            "tags": []
          },
          "execution_count": 66
        }
      ]
    },
    {
      "cell_type": "code",
      "metadata": {
        "id": "RqcfYzbrByDH"
      },
      "source": [
        "def split_train_test(data, test_ratio):\n",
        "    shuffled_indices = np.random.permutation(len(data))\n",
        "    test_set_size = int(len(data) * test_ratio)\n",
        "    test_indices = shuffled_indices[:test_set_size]\n",
        "    train_indices = shuffled_indices[test_set_size:]\n",
        "    return data.iloc[train_indices], data.iloc[test_indices]"
      ],
      "execution_count": 43,
      "outputs": []
    },
    {
      "cell_type": "markdown",
      "metadata": {
        "id": "vgPTNifuR4CF"
      },
      "source": [
        "Uma vez que transformamos nossos dados, vamos separá-los em dois grupos, o de treino e o de teste. Esse procedimento nos ajudará a avaliar nosso modelo."
      ]
    },
    {
      "cell_type": "code",
      "metadata": {
        "colab": {
          "base_uri": "https://localhost:8080/"
        },
        "id": "VS1GxE-9CoCr",
        "outputId": "b3887d5c-d27f-471a-8872-aaa428e5c771"
      },
      "source": [
        "train_set, test_set = split_train_test(dataS, 0.2)\n",
        "len(train_set)"
      ],
      "execution_count": 216,
      "outputs": [
        {
          "output_type": "execute_result",
          "data": {
            "text/plain": [
              "60"
            ]
          },
          "metadata": {
            "tags": []
          },
          "execution_count": 216
        }
      ]
    },
    {
      "cell_type": "code",
      "metadata": {
        "id": "_pbJOYrAtYoy"
      },
      "source": [
        "import sklearn.neighbors\n",
        "modelK = sklearn.neighbors.KNeighborsRegressor(n_neighbors=3)"
      ],
      "execution_count": 69,
      "outputs": []
    },
    {
      "cell_type": "markdown",
      "metadata": {
        "id": "vMbqjdxyTQsY"
      },
      "source": [
        "Para começar nosso modelo, vamos utilizar o knn com 3 vizinhos. "
      ]
    },
    {
      "cell_type": "code",
      "metadata": {
        "colab": {
          "base_uri": "https://localhost:8080/"
        },
        "id": "cKB3QNxftaTT",
        "outputId": "617acd24-7d9a-405f-d3b3-54e7386a2911"
      },
      "source": [
        "modelK.fit(np.c_[train_set['idade']],np.c_[train_set['comprimento']])"
      ],
      "execution_count": 70,
      "outputs": [
        {
          "output_type": "execute_result",
          "data": {
            "text/plain": [
              "KNeighborsRegressor(algorithm='auto', leaf_size=30, metric='minkowski',\n",
              "                    metric_params=None, n_jobs=None, n_neighbors=3, p=2,\n",
              "                    weights='uniform')"
            ]
          },
          "metadata": {
            "tags": []
          },
          "execution_count": 70
        }
      ]
    },
    {
      "cell_type": "code",
      "metadata": {
        "id": "VnhelI73tdWK"
      },
      "source": [
        "pred = modelK.predict([[(59- np.min(data['idade']))/(np.max(data['idade'])-np.min(data['idade']))]])"
      ],
      "execution_count": 73,
      "outputs": []
    },
    {
      "cell_type": "code",
      "metadata": {
        "colab": {
          "base_uri": "https://localhost:8080/"
        },
        "id": "yhs4-O8C9f8f",
        "outputId": "b21db170-c201-4996-a53f-7de29a4b372c"
      },
      "source": [
        "pred"
      ],
      "execution_count": 74,
      "outputs": [
        {
          "output_type": "execute_result",
          "data": {
            "text/plain": [
              "array([[0.96273701]])"
            ]
          },
          "metadata": {
            "tags": []
          },
          "execution_count": 74
        }
      ]
    },
    {
      "cell_type": "code",
      "metadata": {
        "colab": {
          "base_uri": "https://localhost:8080/"
        },
        "id": "xZGQAA0W7J_Z",
        "outputId": "619ab67a-8344-46ca-976b-78cfb0e46ae6"
      },
      "source": [
        "pred*(np.max(data['comprimento'])-np.min(data['comprimento']))+np.min(data['comprimento'])"
      ],
      "execution_count": 75,
      "outputs": [
        {
          "output_type": "execute_result",
          "data": {
            "text/plain": [
              "array([[85.55333333]])"
            ]
          },
          "metadata": {
            "tags": []
          },
          "execution_count": 75
        }
      ]
    },
    {
      "cell_type": "code",
      "metadata": {
        "id": "Ylqpclvw9IN9"
      },
      "source": [
        "X = np.c_[dataS['idade']]\n",
        "y = np.c_[dataS['comprimento']]"
      ],
      "execution_count": 77,
      "outputs": []
    },
    {
      "cell_type": "code",
      "metadata": {
        "colab": {
          "base_uri": "https://localhost:8080/",
          "height": 268
        },
        "id": "RR6mVQJ9tgPc",
        "outputId": "a09e984d-2755-4bf9-f270-0a267772b5cf"
      },
      "source": [
        "plt.scatter(x=\"idade\", y='comprimento', data = train_set)\n",
        "plt.plot(np.sort(X, axis = 0),np.sort(modelK.predict(X), axis=0), color = 'red')\n",
        "plt.show()"
      ],
      "execution_count": 78,
      "outputs": [
        {
          "output_type": "display_data",
          "data": {
            "image/png": "[encoded data removed]",
            "text/plain": [
              "<Figure size 432x288 with 1 Axes>"
            ]
          },
          "metadata": {
            "tags": [],
            "needs_background": "light"
          }
        }
      ]
    },
    {
      "cell_type": "markdown",
      "metadata": {
        "id": "bxZ7wxC4TdLS"
      },
      "source": [
        "O gráfico mostra que esse modelo se ajusta aos dados de forma muito mais eficiente que a regressão linear. Mas ainda não sabemos se o modelo ideal realmente leva em consideração 3 vizinhos.\n",
        "\n",
        "Portanto, vamos verificar qual é o melhor modelo. Para isso, vamos utilizar a raiz do erro quadrático médio (RMSE) como métrica de perfomance."
      ]
    },
    {
      "cell_type": "code",
      "metadata": {
        "id": "3gUiszeSt8I5"
      },
      "source": [
        "from sklearn.metrics import mean_squared_error\n",
        "from math import sqrt"
      ],
      "execution_count": 18,
      "outputs": []
    },
    {
      "cell_type": "code",
      "metadata": {
        "colab": {
          "base_uri": "https://localhost:8080/"
        },
        "id": "MyBUs2gVFIwk",
        "outputId": "69dc8b82-b6df-4ee5-e947-9d6758995c1f"
      },
      "source": [
        "rmse_val = [] \n",
        "for K in range(20):\n",
        "    K = K+1\n",
        "    model = sklearn.neighbors.KNeighborsRegressor(n_neighbors = K)\n",
        "\n",
        "    model.fit(np.c_[train_set['idade']], np.c_[train_set['comprimento']])  #fit the model\n",
        "    pred=model.predict(np.c_[test_set['idade']]) #make prediction on test set\n",
        "    error = sqrt(mean_squared_error(np.c_[test_set['comprimento']],pred)) #calculate rmse\n",
        "    rmse_val.append(error) #store rmse values\n",
        "    print('RMSE value for k= ' , K , 'is:', error)"
      ],
      "execution_count": 79,
      "outputs": [
        {
          "output_type": "stream",
          "text": [
            "RMSE value for k=  1 is: 0.05153383100382558\n",
            "RMSE value for k=  2 is: 0.0382718309198484\n",
            "RMSE value for k=  3 is: 0.03525557320373754\n",
            "RMSE value for k=  4 is: 0.02761747912775354\n",
            "RMSE value for k=  5 is: 0.024455080047393\n",
            "RMSE value for k=  6 is: 0.026201082106420623\n",
            "RMSE value for k=  7 is: 0.025210857982082793\n",
            "RMSE value for k=  8 is: 0.025892089720650838\n",
            "RMSE value for k=  9 is: 0.026306819252158165\n",
            "RMSE value for k=  10 is: 0.026021938297343405\n",
            "RMSE value for k=  11 is: 0.023808577573111753\n",
            "RMSE value for k=  12 is: 0.024933688241360545\n",
            "RMSE value for k=  13 is: 0.026772521624602745\n",
            "RMSE value for k=  14 is: 0.03107029766047451\n",
            "RMSE value for k=  15 is: 0.02997815129656553\n",
            "RMSE value for k=  16 is: 0.034458916233689116\n",
            "RMSE value for k=  17 is: 0.036694849039916856\n",
            "RMSE value for k=  18 is: 0.03456989371431495\n",
            "RMSE value for k=  19 is: 0.035041419799093754\n",
            "RMSE value for k=  20 is: 0.033765787119205394\n"
          ],
          "name": "stdout"
        }
      ]
    },
    {
      "cell_type": "code",
      "metadata": {
        "colab": {
          "base_uri": "https://localhost:8080/",
          "height": 268
        },
        "id": "eJwxIBG3FaTF",
        "outputId": "ba6d7096-b692-45ff-f0b8-57093559a074"
      },
      "source": [
        "curve = pd.DataFrame(rmse_val) #elbow curve)\n",
        "plt.plot(curve)\n",
        "plt.xticks(np.arange(1, 21, 1.0))\n",
        "plt.scatter(x=4, y=0.0248, color = 'red')\n",
        "plt.show()"
      ],
      "execution_count": 106,
      "outputs": [
        {
          "output_type": "display_data",
          "data": {
            "image/png": "[encoded data removed]",
            "text/plain": [
              "<Figure size 432x288 with 1 Axes>"
            ]
          },
          "metadata": {
            "tags": [],
            "needs_background": "light"
          }
        }
      ]
    },
    {
      "cell_type": "markdown",
      "metadata": {
        "id": "Oq2RDsObUGHw"
      },
      "source": [
        "Podemos ver no gráfico que o RMSE cai até o modelo com 4 vizinhos e depois começa a subir. Portanto, vamos utilizar esse modelo como o que melhor se adapta aos nossos dados."
      ]
    },
    {
      "cell_type": "code",
      "metadata": {
        "colab": {
          "base_uri": "https://localhost:8080/"
        },
        "id": "fz8nNm4-F-ye",
        "outputId": "f508f8fc-3836-4957-d176-b9ceb4023b3d"
      },
      "source": [
        "modelKnn = sklearn.neighbors.KNeighborsRegressor(n_neighbors = 4)\n",
        "\n",
        "modelKnn.fit(np.c_[train_set['idade']], np.c_[train_set['comprimento']])"
      ],
      "execution_count": 219,
      "outputs": [
        {
          "output_type": "execute_result",
          "data": {
            "text/plain": [
              "KNeighborsRegressor(algorithm='auto', leaf_size=30, metric='minkowski',\n",
              "                    metric_params=None, n_jobs=None, n_neighbors=4, p=2,\n",
              "                    weights='uniform')"
            ]
          },
          "metadata": {
            "tags": []
          },
          "execution_count": 219
        }
      ]
    },
    {
      "cell_type": "code",
      "metadata": {
        "colab": {
          "base_uri": "https://localhost:8080/",
          "height": 286
        },
        "id": "uuDIvjymCbaE",
        "outputId": "40627515-edca-4da7-dde8-22f5cd2eea75"
      },
      "source": [
        "train_set.plot(kind='scatter',x=\"idade\", y='comprimento')\n",
        "plt.plot(np.sort(X, axis = 0),np.sort(modelKnn.predict(X), axis=0), color = 'red')\n",
        "plt.show()"
      ],
      "execution_count": 220,
      "outputs": [
        {
          "output_type": "display_data",
          "data": {
            "image/png": "[encoded data removed]",
            "text/plain": [
              "<Figure size 432x288 with 1 Axes>"
            ]
          },
          "metadata": {
            "tags": [],
            "needs_background": "light"
          }
        }
      ]
    },
    {
      "cell_type": "markdown",
      "metadata": {
        "id": "2EwDRFueUusK"
      },
      "source": [
        "Como nossos dados foram transformados, para fazermos uma predição, temos que transformar, também, o valor que estamos interessados."
      ]
    },
    {
      "cell_type": "code",
      "metadata": {
        "colab": {
          "base_uri": "https://localhost:8080/"
        },
        "id": "TUdofYPGBRR5",
        "outputId": "5e6ceffb-9ce5-4b54-891e-06f5e484a090"
      },
      "source": [
        "pred = modelKnn.predict([[(30.5- np.min(data['idade']))/(np.max(data['idade'])-np.min(data['idade']))]])\n",
        "pred"
      ],
      "execution_count": 229,
      "outputs": [
        {
          "output_type": "execute_result",
          "data": {
            "text/plain": [
              "array([[0.79279562]])"
            ]
          },
          "metadata": {
            "tags": []
          },
          "execution_count": 229
        }
      ]
    },
    {
      "cell_type": "markdown",
      "metadata": {
        "id": "twvLlfM4V9Tq"
      },
      "source": [
        "O comando acima transforma 30,5 para a mesma escala dos dados utilizados na estimação do modelo. Podemos perceber que o resultado obtido não faz sentido, o que é normal, já que teremos que transformá-lo de volta para a escala original dos dados. Isso será feito no comando abaixo."
      ]
    },
    {
      "cell_type": "code",
      "metadata": {
        "colab": {
          "base_uri": "https://localhost:8080/"
        },
        "id": "a2hpPxNBBVCY",
        "outputId": "a1ee3e82-8ad9-435d-c6f0-9ee34981d035"
      },
      "source": [
        "pred*(np.max(data['comprimento'])-np.min(data['comprimento']))+np.min(data['comprimento'])"
      ],
      "execution_count": 228,
      "outputs": [
        {
          "output_type": "execute_result",
          "data": {
            "text/plain": [
              "array([[76.0825]])"
            ]
          },
          "metadata": {
            "tags": []
          },
          "execution_count": 228
        }
      ]
    },
    {
      "cell_type": "markdown",
      "metadata": {
        "id": "yEXSZLZsWU7J"
      },
      "source": [
        "Portanto, nosso modelo nos diz que uma criança com 30,5 semanas de vida deverá ter, aproximadamente, 76cm."
      ]
    }
  ]
}
